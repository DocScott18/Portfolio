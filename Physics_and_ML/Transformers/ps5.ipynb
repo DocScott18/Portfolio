{
 "cells": [
  {
   "cell_type": "markdown",
   "metadata": {},
   "source": [
    "# Problem Set 5\n",
    "**Owen Erker**"
   ]
  },
  {
   "cell_type": "markdown",
   "metadata": {},
   "source": [
    "---"
   ]
  },
  {
   "cell_type": "markdown",
   "metadata": {},
   "source": [
    "## Instructions"
   ]
  },
  {
   "cell_type": "markdown",
   "metadata": {
    "id": "HOLH50ccErjV"
   },
   "source": [
    "The goal of this problem set is to get some experience with transformers.\n",
    "There's a neat minimal implementation of GPT by Andrej Karpathy here https://github.com/karpathy/minGPT.\n",
    "\n",
    "1. Explore this repo. Find an implementation of training the GPT for adding numbers in https://github.com/karpathy/minGPT/blob/master/projects/adder/adder.py\n",
    "2. Notice this\n",
    "```\n",
    "class AdditionDataset(Dataset):\n",
    "    \"\"\"\n",
    "    Creates n-digit addition problems. For example, if n=2, then an example\n",
    "    addition problem would be to add 85 + 50 = 135. This problem would be\n",
    "    represented as the following string for the GPT:\n",
    "\n",
    "    \"8550531\"\n",
    "\n",
    "    This is because:\n",
    "    - we are discarding the + and =, which are not necessary. We just encode the digits\n",
    "      of the input numbers concatenated together.\n",
    "    - the result 135 is encoded backwards to make the addition easier to learn for the\n",
    "      GPT model, because of how the addition algorithm works.\n",
    "\n",
    "    As one more example, the problem 6 + 39 = 45 would be encoded as:\n",
    "\n",
    "    \"0639054\"\n",
    "\n",
    "    where you will notice that we are padding with zeros to make sure that we always\n",
    "    produce strings of the exact same size: n + n + (n + 1). When n=2, this is 7.\n",
    "    At test time, we will feed in an addition problem by giving the first 2n digits,\n",
    "    and hoping that the GPT model completes the sequence with the next (n+1) digits\n",
    "    correctly.\n",
    "    \"\"\"\n",
    "```\n",
    "3. We are going to find out the effect of the reversed number representation.\n",
    "\n",
    "  - Set ndigit = 3 to learn the addition of 3 digit numbers.\n",
    "  - Set the max number of training iterations to 20_000.\n",
    "  - Run two experiments where you learn the addition with and without the trick reversing the target.\n",
    "  - In each experiment, record the training and test accuracies (you need to find out how - there are multiple ways you can modify the code to achieve this)\n",
    "  - Make a plot of training and test accuracies vs. training iteration\n",
    "  - Does the reversal have any effect? Explain why.\n",
    "\n",
    "\n",
    "If you chose to run it in colab, you can make use of the following to clone the repo:\n",
    "```\n",
    "!git clone https://github.com/karpathy/minGPT.git\n",
    "\n",
    "```\n",
    "Then you can import the necessary pieces with, eg.,\n",
    "\n",
    "```\n",
    "import sys\n",
    "sys.path.insert(0, '/content/minGPT')\n",
    "from mingpt.model import GPT\n",
    "```"
   ]
  },
  {
   "cell_type": "markdown",
   "metadata": {
    "id": "y4rbTuRSL4JE"
   },
   "source": [
    "---"
   ]
  },
  {
   "cell_type": "markdown",
   "metadata": {},
   "source": [
    "## Submission"
   ]
  },
  {
   "cell_type": "markdown",
   "metadata": {},
   "source": [
    "### Imports"
   ]
  },
  {
   "cell_type": "code",
   "execution_count": 1,
   "metadata": {},
   "outputs": [],
   "source": [
    "import sys\n",
    "import os\n",
    "import shutil\n",
    "import time\n",
    "\n",
    "import matplotlib.pyplot as plt\n",
    "import numpy as np\n",
    "\n",
    "from IPython.display import display, clear_output\n",
    "import ipywidgets as widgets\n",
    "\n",
    "import torch\n",
    "from torch.utils.data import Dataset\n",
    "from torch.utils.data.dataloader import DataLoader"
   ]
  },
  {
   "cell_type": "markdown",
   "metadata": {},
   "source": [
    "#### Check Torch Version and CUDA Status"
   ]
  },
  {
   "cell_type": "code",
   "execution_count": 2,
   "metadata": {
    "scrolled": true
   },
   "outputs": [
    {
     "name": "stdout",
     "output_type": "stream",
     "text": [
      "Torch Version: 2.1.0+cu121\n",
      "CUDA Enabled: True\n",
      "CUDA Version: 12.1\n",
      "CUDA Device Name: NVIDIA GeForce RTX 4060 Ti\n"
     ]
    }
   ],
   "source": [
    "print(f'Torch Version: {torch.__version__}')\n",
    "print(f'CUDA Enabled: {torch.cuda.is_available()}')\n",
    "print(f'CUDA Version: {torch.version.cuda}')\n",
    "print(f'CUDA Device Name: {torch.cuda.get_device_name()}')"
   ]
  },
  {
   "cell_type": "markdown",
   "metadata": {},
   "source": [
    "#### Torch Configurations"
   ]
  },
  {
   "cell_type": "code",
   "execution_count": 3,
   "metadata": {},
   "outputs": [],
   "source": [
    "device = torch.device(\"cuda\" if torch.cuda.is_available() else \"cpu\")"
   ]
  },
  {
   "cell_type": "markdown",
   "metadata": {},
   "source": [
    "###  Installation : `minGPT` and `adder_v2.py`"
   ]
  },
  {
   "cell_type": "code",
   "execution_count": 4,
   "metadata": {},
   "outputs": [],
   "source": [
    "#! git clone https://github.com/karpathy/minGPT.git\n",
    "\n",
    "sys.path.insert(0, os.path.join(os.getcwd()+'/minGPT'))\n",
    "\n",
    "from mingpt.model import GPT\n",
    "from mingpt.trainer import Trainer\n",
    "from mingpt.utils import set_seed, setup_logging, CfgNode as CN\n",
    "\n",
    "from projects.adder.adder import get_config, AdditionDataset "
   ]
  },
  {
   "cell_type": "markdown",
   "metadata": {},
   "source": [
    "---"
   ]
  },
  {
   "cell_type": "markdown",
   "metadata": {},
   "source": [
    "### Model Training and Creation"
   ]
  },
  {
   "cell_type": "markdown",
   "metadata": {},
   "source": [
    "#### Default GPT/Adder Methods"
   ]
  },
  {
   "cell_type": "code",
   "execution_count": 5,
   "metadata": {},
   "outputs": [],
   "source": [
    "loss_output = widgets.Output()\n",
    "acc_output = widgets.Output()\n",
    "eval_output = widgets.Output()"
   ]
  },
  {
   "cell_type": "code",
   "execution_count": 6,
   "metadata": {},
   "outputs": [
    {
     "name": "stdout",
     "output_type": "stream",
     "text": [
      "number of parameters: 0.09M\n",
      "running on device cuda\n"
     ]
    },
    {
     "data": {
      "text/plain": [
       "GPT(\n",
       "  (transformer): ModuleDict(\n",
       "    (wte): Embedding(10, 48)\n",
       "    (wpe): Embedding(9, 48)\n",
       "    (drop): Dropout(p=0.1, inplace=False)\n",
       "    (h): ModuleList(\n",
       "      (0-2): 3 x Block(\n",
       "        (ln_1): LayerNorm((48,), eps=1e-05, elementwise_affine=True)\n",
       "        (attn): CausalSelfAttention(\n",
       "          (c_attn): Linear(in_features=48, out_features=144, bias=True)\n",
       "          (c_proj): Linear(in_features=48, out_features=48, bias=True)\n",
       "          (attn_dropout): Dropout(p=0.1, inplace=False)\n",
       "          (resid_dropout): Dropout(p=0.1, inplace=False)\n",
       "        )\n",
       "        (ln_2): LayerNorm((48,), eps=1e-05, elementwise_affine=True)\n",
       "        (mlp): ModuleDict(\n",
       "          (c_fc): Linear(in_features=48, out_features=192, bias=True)\n",
       "          (c_proj): Linear(in_features=192, out_features=48, bias=True)\n",
       "          (act): NewGELU()\n",
       "          (dropout): Dropout(p=0.1, inplace=False)\n",
       "        )\n",
       "      )\n",
       "    )\n",
       "    (ln_f): LayerNorm((48,), eps=1e-05, elementwise_affine=True)\n",
       "  )\n",
       "  (lm_head): Linear(in_features=48, out_features=10, bias=False)\n",
       ")"
      ]
     },
     "execution_count": 6,
     "metadata": {},
     "output_type": "execute_result"
    }
   ],
   "source": [
    "config = get_config()\n",
    "config.data.ndigit = 3\n",
    "config.trainer.max_iters = 20_000\n",
    "\n",
    "train_dataset = AdditionDataset(config.data, split='train')\n",
    "test_dataset  = AdditionDataset(config.data, split='test')\n",
    "\n",
    "config.model.vocab_size = train_dataset.get_vocab_size()\n",
    "config.model.block_size = train_dataset.get_block_size()\n",
    "\n",
    "model = GPT(config.model)\n",
    "trainer = Trainer(config.trainer, model, train_dataset)\n",
    "\n",
    "trainer.device = device\n",
    "model.to(trainer.device)"
   ]
  },
  {
   "cell_type": "code",
   "execution_count": 7,
   "metadata": {},
   "outputs": [],
   "source": [
    "def eval_split(trainer, split, max_batches=None):\n",
    "    with eval_output:\n",
    "        clear_output(wait=True)\n",
    "        \n",
    "        dataset = {'train': train_dataset, 'test': test_dataset}[split]\n",
    "        ndigit = config.data.ndigit\n",
    "        results = []\n",
    "        mistakes_printed_already = 0\n",
    "        factors = torch.tensor([[10**i for i in range(ndigit+1)][::-1]]).to(trainer.device)\n",
    "        loader = DataLoader(dataset, batch_size=100, num_workers=0, drop_last=False)\n",
    "\n",
    "        for b, (x, y) in enumerate(loader):\n",
    "            x = x.to(trainer.device)\n",
    "            d1d2 = x[:, :ndigit*2]\n",
    "            d1d2d3 = model.generate(d1d2, ndigit+1, do_sample=False)\n",
    "            d3 = d1d2d3[:, -(ndigit+1):].flip(1)\n",
    "\n",
    "            d1i = (d1d2[:, :ndigit] * factors[:, 1:]).sum(1)\n",
    "            d2i = (d1d2[:, ndigit:ndigit*2] * factors[:, 1:]).sum(1)\n",
    "            d3i_pred = (d3 * factors).sum(1)\n",
    "            d3i_gt = d1i + d2i\n",
    "\n",
    "            correct = (d3i_pred == d3i_gt).cpu()\n",
    "            for i in range(x.size(0)):\n",
    "                results.append(int(correct[i]))\n",
    "                if not correct[i] and mistakes_printed_already < 5:\n",
    "                    mistakes_printed_already += 1\n",
    "                    print(f\"GPT Claims: {d1i[i]} + {d2i[i]} = {d3i_pred[i]}\\nActual: {d3i_gt[i]}\")\n",
    "            if max_batches is not None and b + 1 >= max_batches:\n",
    "                break\n",
    "\n",
    "        rt = torch.tensor(results, dtype=torch.float)\n",
    "        print(f\"-----\\nFinal Score [{split}]: {int(rt.sum())}/{len(results)} = {100*rt.mean():.2f}% Correct\")\n",
    "        return rt.sum()"
   ]
  },
  {
   "cell_type": "code",
   "execution_count": 8,
   "metadata": {},
   "outputs": [],
   "source": [
    "train_acc_log = []\n",
    "test_acc_log = []\n",
    "iter_log = []\n",
    "top_score = 0\n",
    "score = 0\n",
    "\n",
    "def batch_end_callback(trainer):\n",
    "    global top_score\n",
    "\n",
    "\n",
    "#----------vvv-SYSTEM OUTPUTS-vvv----------\n",
    "    if trainer.iter_num % 10 == 0:\n",
    "        with loss_output:\n",
    "            clear_output(wait=True)\n",
    "            print(f\"Time: {trainer.iter_dt * 1000:.2f}ms\\nIteration: {trainer.iter_num} - Train Loss: {trainer.loss.item():.5f}\\n-----\")\n",
    "\n",
    "    if trainer.iter_num % 500 == 0:\n",
    "        model.eval()\n",
    "        with torch.no_grad():\n",
    "            train_score = eval_split(trainer, 'train', max_batches=5)\n",
    "            test_score = eval_split(trainer, 'test')\n",
    "        score = train_score + test_score\n",
    "#----------^^^-SYSTEM OUTPUTS-^^^----------\n",
    "\n",
    "#------------vvv-SYSTEM LOG-vvv------------\n",
    "        train_pct = float(train_score) / 500 * 100\n",
    "        test_pct = float(test_score) / 500 * 100\n",
    "\n",
    "        iter_log.append(trainer.iter_num)\n",
    "        train_acc_log.append(train_pct)\n",
    "        test_acc_log.append(test_pct)\n",
    "#------------^^^-SYSTEM LOG-^^^------------\n",
    "\n",
    "        if score > top_score:\n",
    "            top_score = score\n",
    "            with acc_output:\n",
    "                clear_output(wait=True)\n",
    "                print(f\"Saving Model with New Top Score: {score}\")\n",
    "            ckpt_path = os.path.join(config.system.work_dir, \"model.pt\")\n",
    "            os.makedirs(os.path.dirname(ckpt_path), exist_ok=True)\n",
    "            torch.save(model.state_dict(), ckpt_path)\n",
    "        model.train()"
   ]
  },
  {
   "cell_type": "code",
   "execution_count": 9,
   "metadata": {},
   "outputs": [
    {
     "data": {
      "application/vnd.jupyter.widget-view+json": {
       "model_id": "fce5bcc9297f4f6182d4fdea137782b3",
       "version_major": 2,
       "version_minor": 0
      },
      "text/plain": [
       "Output()"
      ]
     },
     "metadata": {},
     "output_type": "display_data"
    },
    {
     "data": {
      "application/vnd.jupyter.widget-view+json": {
       "model_id": "677f22abc8774728b9c89730fb85510e",
       "version_major": 2,
       "version_minor": 0
      },
      "text/plain": [
       "Output()"
      ]
     },
     "metadata": {},
     "output_type": "display_data"
    },
    {
     "data": {
      "application/vnd.jupyter.widget-view+json": {
       "model_id": "701bc925ee464709b10fb2131bb728aa",
       "version_major": 2,
       "version_minor": 0
      },
      "text/plain": [
       "Output()"
      ]
     },
     "metadata": {},
     "output_type": "display_data"
    }
   ],
   "source": [
    "display(loss_output)\n",
    "display(acc_output)\n",
    "display(eval_output)\n",
    "\n",
    "trainer.set_callback('on_batch_end', batch_end_callback)\n",
    "trainer.run()"
   ]
  },
  {
   "cell_type": "code",
   "execution_count": 10,
   "metadata": {},
   "outputs": [
    {
     "data": {
      "image/png": "[encoded data removed]",
      "text/plain": [
       "<Figure size 1000x600 with 1 Axes>"
      ]
     },
     "metadata": {},
     "output_type": "display_data"
    }
   ],
   "source": [
    "plt.figure(figsize=(10, 6))\n",
    "plt.plot(iter_log, train_acc_log, label='Train Accuracy')\n",
    "plt.plot(iter_log, test_acc_log, label='Test Accuracy')\n",
    "plt.xlabel(\"Training Iterations\")\n",
    "plt.ylabel(\"Accuracy (%)\")\n",
    "plt.title(\"GPT Addition Accuracy Over Time (Reversed Targets)\")\n",
    "plt.legend()\n",
    "plt.grid(True)\n",
    "plt.show()"
   ]
  },
  {
   "cell_type": "markdown",
   "metadata": {},
   "source": [
    "#### Modified GPT/Adder Methods for Experiment"
   ]
  },
  {
   "cell_type": "code",
   "execution_count": 11,
   "metadata": {},
   "outputs": [
    {
     "name": "stdout",
     "output_type": "stream",
     "text": [
      "Old model deleted.\n"
     ]
    }
   ],
   "source": [
    "ckpt_path = './out/adder/model.pt'\n",
    "if os.path.exists(ckpt_path):\n",
    "    os.remove(ckpt_path)\n",
    "    print(\"Old model deleted.\")"
   ]
  },
  {
   "cell_type": "code",
   "execution_count": 12,
   "metadata": {},
   "outputs": [
    {
     "name": "stdout",
     "output_type": "stream",
     "text": [
      "number of parameters: 0.09M\n",
      "running on device cuda\n"
     ]
    },
    {
     "data": {
      "text/plain": [
       "GPT(\n",
       "  (transformer): ModuleDict(\n",
       "    (wte): Embedding(10, 48)\n",
       "    (wpe): Embedding(9, 48)\n",
       "    (drop): Dropout(p=0.1, inplace=False)\n",
       "    (h): ModuleList(\n",
       "      (0-2): 3 x Block(\n",
       "        (ln_1): LayerNorm((48,), eps=1e-05, elementwise_affine=True)\n",
       "        (attn): CausalSelfAttention(\n",
       "          (c_attn): Linear(in_features=48, out_features=144, bias=True)\n",
       "          (c_proj): Linear(in_features=48, out_features=48, bias=True)\n",
       "          (attn_dropout): Dropout(p=0.1, inplace=False)\n",
       "          (resid_dropout): Dropout(p=0.1, inplace=False)\n",
       "        )\n",
       "        (ln_2): LayerNorm((48,), eps=1e-05, elementwise_affine=True)\n",
       "        (mlp): ModuleDict(\n",
       "          (c_fc): Linear(in_features=48, out_features=192, bias=True)\n",
       "          (c_proj): Linear(in_features=192, out_features=48, bias=True)\n",
       "          (act): NewGELU()\n",
       "          (dropout): Dropout(p=0.1, inplace=False)\n",
       "        )\n",
       "      )\n",
       "    )\n",
       "    (ln_f): LayerNorm((48,), eps=1e-05, elementwise_affine=True)\n",
       "  )\n",
       "  (lm_head): Linear(in_features=48, out_features=10, bias=False)\n",
       ")"
      ]
     },
     "execution_count": 12,
     "metadata": {},
     "output_type": "execute_result"
    }
   ],
   "source": [
    "config = get_config()\n",
    "config.data.ndigit = 3\n",
    "config.trainer.max_iters = 20_000\n",
    "config.data.reverse_target = False\n",
    "\n",
    "train_dataset = AdditionDataset(config.data, split='train')\n",
    "test_dataset  = AdditionDataset(config.data, split='test')\n",
    "\n",
    "config.model.vocab_size = train_dataset.get_vocab_size()\n",
    "config.model.block_size = train_dataset.get_block_size()\n",
    "\n",
    "model = GPT(config.model)\n",
    "trainer = Trainer(config.trainer, model, train_dataset)\n",
    "\n",
    "trainer.device = device\n",
    "model.to(trainer.device)"
   ]
  },
  {
   "cell_type": "code",
   "execution_count": 13,
   "metadata": {},
   "outputs": [],
   "source": [
    "train_acc_log = []\n",
    "test_acc_log = []\n",
    "iter_log = []\n",
    "top_score = 0\n",
    "score = 0"
   ]
  },
  {
   "cell_type": "code",
   "execution_count": 14,
   "metadata": {},
   "outputs": [
    {
     "data": {
      "application/vnd.jupyter.widget-view+json": {
       "model_id": "fce5bcc9297f4f6182d4fdea137782b3",
       "version_major": 2,
       "version_minor": 0
      },
      "text/plain": [
       "Output()"
      ]
     },
     "metadata": {},
     "output_type": "display_data"
    },
    {
     "data": {
      "application/vnd.jupyter.widget-view+json": {
       "model_id": "677f22abc8774728b9c89730fb85510e",
       "version_major": 2,
       "version_minor": 0
      },
      "text/plain": [
       "Output()"
      ]
     },
     "metadata": {},
     "output_type": "display_data"
    },
    {
     "data": {
      "application/vnd.jupyter.widget-view+json": {
       "model_id": "701bc925ee464709b10fb2131bb728aa",
       "version_major": 2,
       "version_minor": 0
      },
      "text/plain": [
       "Output()"
      ]
     },
     "metadata": {},
     "output_type": "display_data"
    }
   ],
   "source": [
    "display(loss_output)\n",
    "display(acc_output)\n",
    "display(eval_output)\n",
    "\n",
    "trainer.set_callback('on_batch_end', batch_end_callback)\n",
    "trainer.run()"
   ]
  },
  {
   "cell_type": "code",
   "execution_count": 15,
   "metadata": {},
   "outputs": [
    {
     "data": {
      "image/png": "[encoded data removed]",
      "text/plain": [
       "<Figure size 1000x600 with 1 Axes>"
      ]
     },
     "metadata": {},
     "output_type": "display_data"
    }
   ],
   "source": [
    "plt.figure(figsize=(10, 6))\n",
    "plt.plot(iter_log, train_acc_log, label='Train Accuracy')\n",
    "plt.plot(iter_log, test_acc_log, label='Test Accuracy')\n",
    "plt.xlabel(\"Training Iterations\")\n",
    "plt.ylabel(\"Accuracy (%)\")\n",
    "plt.title(\"GPT Addition Accuracy Over Time (Normal Targets)\")\n",
    "plt.legend()\n",
    "plt.grid(True)\n",
    "plt.show()"
   ]
  },
  {
   "cell_type": "markdown",
   "metadata": {},
   "source": [
    "#### Comparison"
   ]
  },
  {
   "cell_type": "markdown",
   "metadata": {},
   "source": [
    "Our experiments demonstrate a clear advantage to using the reversed target format when training a GPT model to perform 3-digit addition. When the target output was reversed (learning \"135\" as \"531\"), both training and test accuracies reached 100%, indicating that the model was able to learn and generalize the addition operation perfectly. In contrast, the standard format (non-reversed) led to significantly lower accuracies, with the training accuracy plateauing at 60% and the test accuracy dropping to 40%.\n",
    "\n",
    "This stark difference highlights how sequence structure impacts model learning. Reversing the output simplifies the dependency structure of digit-by-digit addition, making it easier for the autoregressive GPT to learn—especially since it generates outputs from left to right. Without reversal, the model must learn to carry digits forward before it's seen them, which is much harder to capture with causal attention."
   ]
  }
 ],
 "metadata": {
  "colab": {
   "authorship_tag": "ABX9TyPNxK6Tu0ZA0GMmnZNe+2vw",
   "provenance": []
  },
  "kernelspec": {
   "display_name": "Python 3 (ipykernel)",
   "language": "python",
   "name": "python3"
  },
  "language_info": {
   "codemirror_mode": {
    "name": "ipython",
    "version": 3
   },
   "file_extension": ".py",
   "mimetype": "text/x-python",
   "name": "python",
   "nbconvert_exporter": "python",
   "pygments_lexer": "ipython3",
   "version": "3.10.16"
  }
 },
 "nbformat": 4,
 "nbformat_minor": 4
}
